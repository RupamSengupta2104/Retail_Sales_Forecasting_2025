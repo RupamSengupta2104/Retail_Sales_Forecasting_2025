{
 "cells": [
  {
   "cell_type": "code",
   "execution_count": 1,
   "id": "d0b11135-687c-472b-98ec-c51488d975cb",
   "metadata": {},
   "outputs": [
    {
     "name": "stdout",
     "output_type": "stream",
     "text": [
      "Data Preview:\n",
      "  Product_Code Week  Sales\n",
      "0           P1   W0   11.0\n",
      "1           P2   W0    7.0\n",
      "2           P3   W0    7.0\n",
      "3           P4   W0   12.0\n",
      "4           P5   W0    8.0\n",
      "Boxplot saved as: ../outputs/Weekly_Sales_Boxplot.png\n"
     ]
    },
    {
     "data": {
      "image/png": "[encoded data removed]",
      "text/plain": [
       "<Figure size 1200x600 with 1 Axes>"
      ]
     },
     "metadata": {},
     "output_type": "display_data"
    },
    {
     "name": "stdout",
     "output_type": "stream",
     "text": [
      "\n",
      "Total Outliers Detected: 12217\n",
      "   Product_Code Week  Sales\n",
      "0            P1   W0   11.0\n",
      "3            P4   W0   12.0\n",
      "8            P9   W0   14.0\n",
      "9           P10   W0   22.0\n",
      "10          P11   W0   15.0\n",
      "Outliers saved to: ../outputs/Outliers_Detected.csv\n",
      "\n",
      "--- Outlier Summary for Business Side Notes ---\n",
      "25th Percentile (Q1): 0.0\n",
      "75th Percentile (Q3): 4.0\n",
      "Interquartile Range (IQR): 4.0\n",
      "Lower Bound: -6.0\n",
      "Upper Bound: 10.0\n",
      "\n",
      "Example Outliers (Top 5):\n",
      "   Product_Code Week  Sales\n",
      "0            P1   W0   11.0\n",
      "3            P4   W0   12.0\n",
      "8            P9   W0   14.0\n",
      "9           P10   W0   22.0\n",
      "10          P11   W0   15.0\n",
      "\n",
      "Outlier Detection Complete. Check the 'outputs' folder for files.\n"
     ]
    }
   ],
   "source": [
    "import pandas as pd\n",
    "import matplotlib.pyplot as plt\n",
    "import seaborn as sns\n",
    "import os\n",
    "\n",
    "# Load the dataset\n",
    "file_path = '../data/Sales_Transactions_Dataset_Weekly.csv'  # Adjust the path if needed\n",
    "df = pd.read_csv(file_path)\n",
    "\n",
    "# Create outputs folder if not exists (good practice)\n",
    "output_folder = '../outputs/'\n",
    "if not os.path.exists(output_folder):\n",
    "    os.makedirs(output_folder)\n",
    "\n",
    "# Melt the dataframe to bring weeks into a single column (tidy format)\n",
    "df_melted = df.melt(id_vars=['Product_Code'], var_name='Week', value_name='Sales')\n",
    "\n",
    "# Quick Data Preview (optional)\n",
    "print(\"Data Preview:\")\n",
    "print(df_melted.head())\n",
    "\n",
    "# Boxplot to visualize outliers\n",
    "plt.figure(figsize=(12, 6))\n",
    "sns.boxplot(x=df_melted['Sales'])\n",
    "plt.title('Boxplot of Weekly Sales')\n",
    "plt.xlabel('Sales')\n",
    "plt.grid(True)\n",
    "\n",
    "# Save the plot to outputs folder\n",
    "plot_path = os.path.join(output_folder, 'Weekly_Sales_Boxplot.png')\n",
    "plt.savefig(plot_path, dpi=300)\n",
    "print(f\"Boxplot saved as: {plot_path}\")\n",
    "\n",
    "# Also show the plot\n",
    "plt.show()\n",
    "\n",
    "# Outlier Calculation using IQR\n",
    "Q1 = df_melted['Sales'].quantile(0.25)\n",
    "Q3 = df_melted['Sales'].quantile(0.75)\n",
    "IQR = Q3 - Q1\n",
    "\n",
    "# Define lower and upper bounds for outliers\n",
    "lower_bound = Q1 - 1.5 * IQR\n",
    "upper_bound = Q3 + 1.5 * IQR\n",
    "\n",
    "# Find outliers\n",
    "outliers = df_melted[(df_melted['Sales'] < lower_bound) | (df_melted['Sales'] > upper_bound)]\n",
    "\n",
    "# Summary of outliers\n",
    "print(f\"\\nTotal Outliers Detected: {len(outliers)}\")\n",
    "print(outliers.head())\n",
    "\n",
    "# Save outliers to CSV (for further manual inspection if needed)\n",
    "outlier_file_path = os.path.join(output_folder, 'Outliers_Detected.csv')\n",
    "outliers.to_csv(outlier_file_path, index=False)\n",
    "print(f\"Outliers saved to: {outlier_file_path}\")\n",
    "\n",
    "# Summary Statistics for Business Notes\n",
    "print(\"\\n--- Outlier Summary for Business Side Notes ---\")\n",
    "print(f\"25th Percentile (Q1): {Q1}\")\n",
    "print(f\"75th Percentile (Q3): {Q3}\")\n",
    "print(f\"Interquartile Range (IQR): {IQR}\")\n",
    "print(f\"Lower Bound: {lower_bound}\")\n",
    "print(f\"Upper Bound: {upper_bound}\")\n",
    "\n",
    "# Optional Insights (for business side documentation)\n",
    "print(\"\\nExample Outliers (Top 5):\")\n",
    "print(outliers[['Product_Code', 'Week', 'Sales']].head())\n",
    "\n",
    "print(\"\\nOutlier Detection Complete. Check the 'outputs' folder for files.\")\n"
   ]
  },
  {
   "cell_type": "code",
   "execution_count": null,
   "id": "fe6e048d-e059-46ae-b205-3af7e0c8e8bc",
   "metadata": {},
   "outputs": [],
   "source": []
  }
 ],
 "metadata": {
  "kernelspec": {
   "display_name": "Python 3 (ipykernel)",
   "language": "python",
   "name": "python3"
  },
  "language_info": {
   "codemirror_mode": {
    "name": "ipython",
    "version": 3
   },
   "file_extension": ".py",
   "mimetype": "text/x-python",
   "name": "python",
   "nbconvert_exporter": "python",
   "pygments_lexer": "ipython3",
   "version": "3.13.1"
  }
 },
 "nbformat": 4,
 "nbformat_minor": 5
}
